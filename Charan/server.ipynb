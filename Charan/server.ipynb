{
 "cells": [
  {
   "cell_type": "code",
   "execution_count": null,
   "metadata": {},
   "outputs": [],
   "source": [
    "def download():\n",
    "    import requests\n",
    "    url = 'https://mustyklutzyconfiguration.charan200415.repl.co/download'\n",
    "    r = requests.get(url, allow_redirects=True)\n",
    "    open('test.tar.gz', 'wb').write(r.content)\n",
    "    !tar -xv -f test.tar.gz\n",
    "    !rm test.tar.gz\n",
    "download()"
   ]
  },
  {
   "cell_type": "code",
   "execution_count": null,
   "metadata": {},
   "outputs": [],
   "source": [
    "def upload():    \n",
    "    !tar chvfz test.tar.gz *\n",
    "    import requests\n",
    "    url = 'https://mustyklutzyconfiguration.charan200415.repl.co/'\n",
    "    file='test.tar.gz'\n",
    "    files = {'file1': (file, open(file, 'rb'))}\n",
    "    response = requests.post(url, files=files)\n",
    "    !rm test.tar.gz\n",
    "from time import sleep\n",
    "from IPython.display import clear_output\n",
    "from datetime import datetime\n",
    "import pytz\n",
    "while True:\n",
    "    india = pytz.timezone('Asia/Kolkata')\n",
    "    india_time = datetime.now(india).strftime('%Y:%m:%d %H:%M:%S')\n",
    "    clear_output(wait=True)\n",
    "    print('Uploaded Below Files At '+str(india_time))\n",
    "    upload()\n",
    "    print('sleeping')\n",
    "    sleep(5)"
   ]
  }
 ],
 "metadata": {
  "language_info": {
   "name": "python"
  },
  "orig_nbformat": 4
 },
 "nbformat": 4,
 "nbformat_minor": 2
}
